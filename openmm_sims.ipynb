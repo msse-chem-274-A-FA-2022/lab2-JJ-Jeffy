{
 "cells": [
  {
   "cell_type": "markdown",
   "metadata": {},
   "source": [
    "# Running Molecular Dynamics Simulations in OpenMM\n",
    "\n",
    "## Overview\n",
    "**Molecular Dynamics Simulation**: simulation of molecules through time via calculations of forces on atoms and their positions based on those forces. The output is a trajectory."
   ]
  },
  {
   "cell_type": "markdown",
   "metadata": {},
   "source": [
    "## Steps for running a simulation\n",
    "1. **Initialization** -- setting up imports, variables, and other system parameters to prepare for the simulation\n",
    "2. **Minimization** -- calculating the energies of moving molecules slightly to obtain a local \"minimum\" in energy and eliminate “bad” interatomic contacts\n",
    "3. **Equilibration** -- a brief MD simulation that prepares our system to our target temperature and desired equilibrium values\n",
    "4. **Production** -- run the equilibration\n",
    "5. **Analysis** -- after you have collected your data from the production run, you must analyze the trajectory to draw conclusions"
   ]
  },
  {
   "cell_type": "markdown",
   "metadata": {},
   "source": [
    "## Our First Simulations\n",
    "We will now use [OpenMM](https://openmm.org/documentation) to do a molecular dynamics simulation of the ethane and butane molecules we prepared. It’s important to note at this point that molecular dynamics simulations can be performed using a number of softwares. However, we will be running a simulation with a program called OpenMM. OpenMM has the advantage of being scriptable with Python."
   ]
  },
  {
   "cell_type": "markdown",
   "metadata": {},
   "source": [
    "---"
   ]
  },
  {
   "cell_type": "markdown",
   "metadata": {},
   "source": [
    "### Initialization\n",
    "Once you have OpenMM, we can use it to simulate our molecules. Start in your notebook with imports. Here are the python libraries you will need to run simulations with OpenMM."
   ]
  },
  {
   "cell_type": "code",
   "execution_count": 1,
   "metadata": {},
   "outputs": [],
   "source": [
    "import openmm as mm\n",
    "from openmm import app, unit"
   ]
  },
  {
   "cell_type": "markdown",
   "metadata": {},
   "source": [
    "First, we need to read in our structure and our force field. We have to tell the simulation our initial coordinates and the force field we will use. To do this, we use the PDB file we have and the force field file we prepared."
   ]
  },
  {
   "cell_type": "code",
   "execution_count": 2,
   "metadata": {},
   "outputs": [],
   "source": [
    "pdb = app.PDBFile('data/ethane.pdb')\n",
    "forcefield = app.ForceField('data/ethane.gaff2.xml')"
   ]
  },
  {
   "cell_type": "markdown",
   "metadata": {},
   "source": [
    "#### QUESTION\n",
    "What are we doing with these two commands above?\n",
    "*(Hint: let's check out some [documentation](http://docs.openmm.org/latest/userguide/application/02_running_sims.html))*\n",
    "\n",
    "#### RESPONSE\n",
    "The PDBFile command takes in aa .pdb file and assigns it to the variable pdb, meanwhile the ForceField command takes as an input a .xml file and assigns it to forcefield. "
   ]
  },
  {
   "cell_type": "markdown",
   "metadata": {},
   "source": [
    "#### QUESTION\n",
    "What lies in the contents of the XML file being read in `forcefield`?\n",
    "\n",
    "#### RESPONSE\n",
    "The XML file contains all the atoms present in ethane along with the atoms that have direct bonds with each other. Lastly, the file also contains information about the harmonic bond force, angle force, torsion force, and nonbonded interactions. "
   ]
  },
  {
   "cell_type": "markdown",
   "metadata": {},
   "source": [
    "Next, we set up the system for our MD simulation. With the following command, we use the `pdb` variable to create a system. The other arguments to the function say that we are not using a cut-off and that we want to constrain bonds with hydrogens (this allows us to use a larger timestep)."
   ]
  },
  {
   "cell_type": "code",
   "execution_count": 3,
   "metadata": {},
   "outputs": [],
   "source": [
    "system = forcefield.createSystem(pdb.topology, nonbondedMethod=app.NoCutoff, constraints=app.HBonds)"
   ]
  },
  {
   "cell_type": "markdown",
   "metadata": {},
   "source": [
    "Our simulation will be in vacuum at a temperature of 298.15 K. The Langevin integrator is what is called a stochastic integrator. This means that it mimics jostling of air or solvent through random forces. We are using a 5.0 picosecond coupling constant, which is something which controls how often the integrator adds jostling motions."
   ]
  },
  {
   "cell_type": "code",
   "execution_count": 4,
   "metadata": {},
   "outputs": [],
   "source": [
    "integrator = mm.LangevinIntegrator(298.15*unit.kelvin, 5.0/unit.picoseconds, 2.0*unit.femtoseconds)\n",
    "integrator.setConstraintTolerance(1e-5)"
   ]
  },
  {
   "cell_type": "markdown",
   "metadata": {},
   "source": [
    "#### QUESTION\n",
    "What is the `integrator` applying to our simulation?\n",
    "\n",
    "#### RESPONSE\n",
    "The integrator is applying a constraint tolerance of 1e-5. The integrator also has an input tempreature of 298.15, the time limit of 5 picoseconds, with increments of 2 femtoseconds. "
   ]
  },
  {
   "cell_type": "markdown",
   "metadata": {},
   "source": [
    "Finally, we initialize the simulation by adding all of the pieces we have prepared:"
   ]
  },
  {
   "cell_type": "code",
   "execution_count": 7,
   "metadata": {},
   "outputs": [],
   "source": [
    "platform = mm.Platform.getPlatformByName('Reference')\n",
    "simulation = app.Simulation(pdb.topology,system, integrator , platform) # ENTER THE THREE PIECES OF OUR SIMULATION HERE (hmm... I wonder where I can find this)\n",
    "simulation.context.setPositions(pdb.positions)"
   ]
  },
  {
   "cell_type": "markdown",
   "metadata": {},
   "source": [
    "---"
   ]
  },
  {
   "cell_type": "markdown",
   "metadata": {},
   "source": [
    "### Minimization\n",
    "Now, we start calculating energies. First we do an energy minimization. We start in this code block by printing the energy before minimization, doing 100 steps of an energy minimization, then printing the new energy. You should see that the energy decreases:"
   ]
  },
  {
   "cell_type": "code",
   "execution_count": 8,
   "metadata": {},
   "outputs": [
    {
     "name": "stdout",
     "output_type": "stream",
     "text": [
      "Minimizing...\n",
      "Potential energy before minimization is 4.467818271065188 kJ/mol\n",
      "Potential energy after minimization is 4.389967724953272 kJ/mol\n"
     ]
    }
   ],
   "source": [
    "print('Minimizing...')\n",
    "\n",
    "st = simulation.context.getState(getPositions=True,getEnergy=True)\n",
    "print(F\"Potential energy before minimization is {st.getPotentialEnergy()}\")\n",
    "\n",
    "simulation.minimizeEnergy(maxIterations=100)\n",
    "\n",
    "st = simulation.context.getState(getPositions=True,getEnergy=True)\n",
    "print(F\"Potential energy after minimization is {st.getPotentialEnergy()}\")"
   ]
  },
  {
   "cell_type": "markdown",
   "metadata": {},
   "source": [
    "You can’t see it from this code, but the atom positions have changed slightly to cause this change in energy."
   ]
  },
  {
   "cell_type": "markdown",
   "metadata": {},
   "source": [
    "#### QUESTION\n",
    "What is an energy minimization? Why do we want to perform a local energy minimization at the start of our simulation?\n",
    "\n",
    "#### RESPONSE\n",
    "Energy minimization is the process of changing the system based on some sort of chemical model that produce less force. This is not a global minization but a local minimization because in reality, it is very hard to find a global minization. It is helpful to perform minization before the code is run since the pdb file might produce values that are very high in energy. "
   ]
  },
  {
   "cell_type": "markdown",
   "metadata": {},
   "source": [
    "---"
   ]
  },
  {
   "cell_type": "markdown",
   "metadata": {},
   "source": [
    "### Equilibration\n",
    "Next, we run an equilibration. The purpose of this equilibration is to get our system to our target temperature and to get the system equilibrated and ready for our production run."
   ]
  },
  {
   "cell_type": "code",
   "execution_count": 9,
   "metadata": {},
   "outputs": [
    {
     "name": "stdout",
     "output_type": "stream",
     "text": [
      "Equilibrating...\n",
      "#\"Step\",\"Potential Energy (kJ/mole)\",\"Temperature (K)\"\n",
      "100,14.083754936103798,183.99884112595683\n",
      "200,14.856617949127711,496.2539177370131\n",
      "300,21.022162547411853,377.46911808180556\n",
      "400,16.89807699615441,159.35475323945016\n",
      "500,7.044368964525974,243.200622406486\n",
      "600,15.595590063793729,366.48311077926064\n",
      "700,16.21729374982123,288.35844471409325\n",
      "800,14.990484519735453,293.46199914405037\n",
      "900,19.35967368317121,283.17398509254525\n",
      "1000,19.426758967821847,309.86764639183974\n",
      "1100,17.894494911877004,337.01300036479125\n",
      "1200,21.404805988768324,184.89045209589858\n",
      "1300,28.3011349428265,369.4332409574266\n",
      "1400,14.457466251533695,413.1847461869573\n",
      "1500,22.940870033652118,219.975075785095\n",
      "1600,15.26739950376902,136.1772705531268\n",
      "1700,11.498084822191835,293.0743939755177\n",
      "1800,14.88572555626169,149.68881063500856\n",
      "1900,22.88868716937345,157.57783509708523\n",
      "2000,22.957442535414362,331.5000196471308\n",
      "2100,41.571909277995886,314.49658196054503\n",
      "2200,25.504364751675865,228.4055704628396\n",
      "2300,23.55660763466699,343.06412870988567\n",
      "2400,14.856276130990203,291.1015253837417\n",
      "2500,13.739126438311292,294.0957403721033\n"
     ]
    }
   ],
   "source": [
    "from sys import stdout\n",
    "\n",
    "print('Equilibrating...')\n",
    "\n",
    "simulation.reporters.append(app.StateDataReporter(stdout, 100, step=True, \n",
    "    potentialEnergy=True, temperature=True, separator=','))\n",
    "simulation.context.setVelocitiesToTemperature(150.0*unit.kelvin)\n",
    "simulation.step(2500)"
   ]
  },
  {
   "cell_type": "markdown",
   "metadata": {},
   "source": [
    "The first command in this section sets up what information OpenMM will report to us as the simulation runs. We are asking for the potential energy, and temperature every 100 timesteps. By putting `stdout` as the first argument, we are telling the program to just print the information. Note that `stdout` comes from the built in Python module `sys`. If we wanted the information in a file instead, you would put the file name.\n",
    "\n",
    "The second command sets the initial velocities of the system to a temperature equivalent of 150 K. Then, we integrate for 2,500 steps to allow the system to equilibrate."
   ]
  },
  {
   "cell_type": "markdown",
   "metadata": {},
   "source": [
    "---"
   ]
  },
  {
   "cell_type": "markdown",
   "metadata": {},
   "source": [
    "### Production\n",
    "This next block of code is a longer block of simulation called the ‘production run’. We’re also added a timer to this code so we can see how long it took our simulation to run."
   ]
  },
  {
   "cell_type": "code",
   "execution_count": 10,
   "metadata": {},
   "outputs": [
    {
     "name": "stdout",
     "output_type": "stream",
     "text": [
      "Running Production...\n",
      "#\"Step\",\"Time (ps)\",\"Potential Energy (kJ/mole)\",\"Temperature (K)\",\"Speed (ns/day)\"\n",
      "250000,500.0000000016593,17.776218458976516,503.722264402804,0\n",
      "500000,999.9999999901769,15.65334850431816,245.3167423215091,2.26e+04\n",
      "750000,1499.9999999783536,13.09171235088232,280.15727194622684,2.31e+04\n",
      "1000000,1999.9999999665301,24.983490369930887,277.89371349515176,2.39e+04\n",
      "1250000,2499.9999999547067,27.9180745237625,337.0844672977669,2.45e+04\n",
      "1500000,2999.9999999428833,24.151786051685608,367.57710148490116,2.38e+04\n",
      "1750000,3499.99999993106,9.04002219252406,172.39174957956646,2.35e+04\n",
      "2000000,3999.9999999192364,20.82575503294648,147.68827074340854,2.29e+04\n",
      "2250000,4499.9999999992715,14.464261161024687,209.79358148076167,1.99e+04\n",
      "2500000,5000.000000101135,20.367964612760005,241.54134142591832,1.94e+04\n",
      "2750000,5500.000000202998,10.643107954005266,218.6163191264474,1.96e+04\n",
      "3000000,6000.000000304862,17.977147601775595,271.480823198629,1.96e+04\n",
      "3250000,6500.000000406725,28.97527174946124,154.5463305959125,1.98e+04\n",
      "3500000,7000.0000005085885,10.346003860923567,312.77812172274184,1.99e+04\n",
      "3750000,7500.000000610452,15.60665856815409,358.16755893696546,1.98e+04\n",
      "4000000,8000.000000712315,21.336937741080337,200.4027223055638,1.99e+04\n",
      "4250000,8500.000000814178,35.240484860820985,389.3487716410075,2.01e+04\n",
      "4500000,9000.000000916041,18.801493609032498,179.2524303300423,2.03e+04\n",
      "4750000,9500.000001017905,19.559626566702242,376.30126345324396,2.05e+04\n",
      "5000000,10000.000001119768,23.615174101307247,334.8323203752445,2.04e+04\n",
      "5250000,10500.000001221631,23.42436363952114,348.00290048530576,2.04e+04\n",
      "5500000,11000.000001323495,25.79285746974748,383.9249469259515,2.03e+04\n",
      "5750000,11500.000001425358,22.519744827283404,231.57263613036673,2.03e+04\n",
      "6000000,12000.000001527222,19.638236057365816,236.59573091140973,2.04e+04\n",
      "6250000,12500.000001629085,14.896020053623769,302.8919446739024,2.05e+04\n",
      "6500000,13000.000001730948,24.34869328081855,238.7181596823439,2.06e+04\n",
      "6750000,13500.000001832812,18.98309702446396,380.5071963269983,2.06e+04\n",
      "7000000,14000.000001934675,14.410985282287477,404.8762414393573,2.05e+04\n",
      "7250000,14500.000002036539,17.37434840395388,386.64813014282396,2.05e+04\n",
      "7500000,15000.000002138402,14.687821628559778,255.23326650028193,2.06e+04\n",
      "7750000,15500.000002240266,21.45705775928024,499.02313140144804,2.05e+04\n",
      "8000000,16000.000002342129,21.50222041942039,162.5379920994309,2.06e+04\n",
      "8250000,16500.00000244399,18.236255714187877,320.2180913396433,2.06e+04\n",
      "8500000,17000.000002545854,17.30483007585786,129.8827212803811,2.05e+04\n",
      "8750000,17500.000002647717,28.21227912682992,227.29035257850194,2.05e+04\n",
      "9000000,18000.00000274958,16.91231892161344,258.62464082956285,2.03e+04\n",
      "9250000,18500.000002851444,16.16070956633609,237.83971592376628,2.01e+04\n",
      "9500000,19000.000002953308,23.137649807369613,202.2756673239141,2.01e+04\n",
      "9750000,19500.00000305517,27.523179606531365,436.5796916870148,2.02e+04\n",
      "10000000,20000.000003157034,19.0234506923273,284.6404361299232,2.03e+04\n",
      "Done!\n",
      "Time required for simulation: 84.93947315216064 seconds\n"
     ]
    }
   ],
   "source": [
    "import time as time\n",
    "\n",
    "print('Running Production...')\n",
    "\n",
    "# Begin timer\n",
    "tinit=time.time()\n",
    "\n",
    "# Clear simulation reporters\n",
    "simulation.reporters.clear()\n",
    "\n",
    "# Reinitialize simulation reporters. We do this because we want different information printed from the production run than the equilibration run.\n",
    "# output basic simulation information below every 250000 steps - (which is equal to 2 fs(250,000) = 500,000 fs = 500 ps)\n",
    "simulation.reporters.append(app.StateDataReporter(stdout, 250000, \n",
    "    step=True, time=True, potentialEnergy=True, temperature=True, \n",
    "    speed=True, separator=','))\n",
    "\n",
    "# write out a trajectory (i.e., coordinates vs. time) to a DCD\n",
    "# file every 100 steps - 0.2 ps\n",
    "simulation.reporters.append(app.DCDReporter('ethane_sim.dcd', 100))\n",
    "\n",
    "# run the simulation for 1.0x10^7 steps - 20 ns\n",
    "simulation.step(10000000)\n",
    "\n",
    "# End timer\n",
    "tfinal=time.time()\n",
    "print('Done!')\n",
    "print('Time required for simulation:', tfinal-tinit, 'seconds')"
   ]
  },
  {
   "cell_type": "markdown",
   "metadata": {},
   "source": [
    "After executing this cell in your notebook, you should see an output which gives you the step number, simulation time, potential energy, temperature, and “speed” for steps in the simulation. The spacing of theses is set in the `simulation.reporters` step where we indicated we wanted information printed every 250,000 timesteps.\n",
    "\n",
    "The “speed” is reported in “ns/day” or “nanoseconds/day”. This is a commonly used unit to report how quickly simulations run. It tells you how much simulation time in nanoseconds would pass for 24 hours of computation time. For example, if a simulation is running at 2 ns/day, enough timesteps would be calculated in one day to make 2 nanoseconds of simulation time. If we were using our 2 fs timestep, this would mean that the computer calculated 1,000,000 timesteps over 24 hours."
   ]
  },
  {
   "cell_type": "markdown",
   "metadata": {},
   "source": [
    "---"
   ]
  },
  {
   "cell_type": "markdown",
   "metadata": {},
   "source": [
    "## Your Turn\n",
    "Make a copy of the code you wrote to run your ethane simulation and modify it to:\n",
    "1. Read in the files `butane.gaff2.xml` and `butane.pdb`\n",
    "2. Carry out a 10 ps MD simulation to bring the butane molecule to an equilibrium temperature of 298 K in which output is printed every 0.5 ps (Leave the minimization portion beforehand unchanged.)\n",
    "3. Carry out a 40 ns MD simulation at 298 K in which output is printed every 1 ns and structures are (still) saved every 0.2 ps into a file called `butane_sim.dcd`."
   ]
  },
  {
   "cell_type": "code",
   "execution_count": 12,
   "metadata": {},
   "outputs": [
    {
     "name": "stdout",
     "output_type": "stream",
     "text": [
      "Minimizing...\n",
      "Potential energy before minimization is 5.797528692127868 kJ/mol\n",
      "Potential energy after minimization is 5.295784483017471 kJ/mol\n",
      "Equilibrating...\n",
      "#\"Step\",\"Potential Energy (kJ/mole)\",\"Temperature (K)\"\n",
      "100,29.850694267304426,398.53159219687507\n",
      "200,44.16595679628012,452.94178762779643\n",
      "300,40.96671299928205,385.9398946566558\n",
      "400,40.68017027553364,338.3439041780983\n",
      "500,55.6230136328952,324.5359336382125\n",
      "600,33.254122737967236,198.04812407422116\n",
      "700,50.8363070290545,311.4195255172109\n",
      "800,61.84576904895185,326.51525584626734\n",
      "900,51.05544552824806,535.2107269800497\n",
      "1000,37.40880641383999,250.7417076169776\n",
      "1100,41.74775478599481,286.8530923881542\n",
      "1200,25.28980975327309,275.56378344523284\n",
      "1300,43.957126108563614,318.0075432195413\n",
      "1400,45.608026378421314,318.14085479602676\n",
      "1500,38.41902705187279,312.1508662147255\n",
      "1600,32.33956570354037,310.2242259460997\n",
      "1700,33.20897132741299,334.3911058395893\n",
      "1800,40.77208203560083,351.0519579931678\n",
      "1900,42.58951396144282,233.57868827208628\n",
      "2000,38.98962451769685,240.38230443416944\n",
      "2100,43.76400814434842,398.81445459068055\n",
      "2200,53.435812713957674,477.26853568943716\n",
      "2300,57.25167172271896,358.72797797795397\n",
      "2400,32.45339449897514,258.60902280265805\n",
      "2500,41.818400882511135,435.8196325654541\n",
      "Running Production...\n",
      "#\"Step\",\"Time (ps)\",\"Potential Energy (kJ/mole)\",\"Temperature (K)\",\"Speed (ns/day)\"\n",
      "250000,500.0000000016593,45.25849269932881,245.45817424003678,0\n",
      "500000,999.9999999901769,67.71756271489133,211.7989181591147,1.17e+04\n",
      "750000,1499.9999999783536,42.65726130227917,393.21378832974204,1.24e+04\n",
      "1000000,1999.9999999665301,41.612545524767114,228.17215806140743,1.28e+04\n",
      "1250000,2499.9999999547067,31.4056351731803,328.4990960393467,1.31e+04\n",
      "1500000,2999.9999999428833,33.3940552590483,427.467988982506,1.31e+04\n",
      "1750000,3499.99999993106,38.14630831491492,387.7693892276773,1.33e+04\n",
      "2000000,3999.9999999192364,29.448833762881346,206.59149813339684,1.33e+04\n",
      "2250000,4499.9999999992715,27.881538244245675,264.3511091268435,1.34e+04\n",
      "2500000,5000.000000101135,26.37138638641018,389.5171297929912,1.35e+04\n",
      "2750000,5500.000000202998,29.694461182502057,424.747693857221,1.34e+04\n",
      "3000000,6000.000000304862,51.34992026229596,268.15041752111154,1.33e+04\n",
      "3250000,6500.000000406725,54.91486905007895,343.19447157655827,1.33e+04\n",
      "3500000,7000.0000005085885,28.8510228678526,375.5404890510204,1.34e+04\n",
      "3750000,7500.000000610452,36.40287311129688,318.8626552435006,1.34e+04\n",
      "4000000,8000.000000712315,48.128313697634376,222.5794048270746,1.34e+04\n",
      "4250000,8500.000000814178,32.65901997978906,282.499972381292,1.35e+04\n",
      "4500000,9000.000000916041,26.222553783408834,240.74780719808285,1.35e+04\n",
      "4750000,9500.000001017905,24.75766184402093,350.9166025398338,1.35e+04\n",
      "5000000,10000.000001119768,40.38963413627278,287.32727857796016,1.35e+04\n",
      "5250000,10500.000001221631,32.15954391141348,414.91206761259934,1.35e+04\n",
      "5500000,11000.000001323495,32.58467807812505,256.8850975023929,1.35e+04\n",
      "5750000,11500.000001425358,52.86272022523192,157.21495098109204,1.35e+04\n",
      "6000000,12000.000001527222,35.38134623320392,323.5308458279896,1.35e+04\n",
      "6250000,12500.000001629085,26.34769954478351,268.88153636852076,1.35e+04\n",
      "6500000,13000.000001730948,47.65835052608269,286.13419138101915,1.34e+04\n",
      "6750000,13500.000001832812,43.00558984360575,228.06752866280362,1.34e+04\n",
      "7000000,14000.000001934675,39.910629581110406,318.03714127249214,1.34e+04\n",
      "7250000,14500.000002036539,60.81411691242409,383.68994921003605,1.34e+04\n",
      "7500000,15000.000002138402,51.647871967143956,245.54508041241135,1.34e+04\n",
      "7750000,15500.000002240266,32.551257800875575,324.023208224976,1.34e+04\n",
      "8000000,16000.000002342129,49.188208681188556,425.03679904514314,1.34e+04\n",
      "8250000,16500.00000244399,42.48911990906489,338.6950891407,1.34e+04\n",
      "8500000,17000.000002545854,50.62404105880677,355.0457200450198,1.34e+04\n",
      "8750000,17500.000002647717,47.28906535425893,278.8403958552688,1.34e+04\n",
      "9000000,18000.00000274958,43.12232521782713,359.3408768394999,1.34e+04\n",
      "9250000,18500.000002851444,38.047627477290824,436.2535946074417,1.34e+04\n",
      "9500000,19000.000002953308,30.159402016314075,263.2743358572573,1.34e+04\n",
      "9750000,19500.00000305517,34.68897852527475,263.2392377216707,1.34e+04\n",
      "10000000,20000.000003157034,32.30714156414453,265.1511221740119,1.34e+04\n",
      "Done!\n",
      "Time required for simulation: 129.34127640724182 seconds\n"
     ]
    }
   ],
   "source": [
    "import openmm as mm\n",
    "from openmm import app, unit\n",
    "\n",
    "pdb = app.PDBFile('data/butane.pdb')\n",
    "forcefield = app.ForceField('data/butane.gaff2.xml')\n",
    "\n",
    "system = forcefield.createSystem(pdb.topology, nonbondedMethod=app.NoCutoff, constraints=app.HBonds)\n",
    "\n",
    "integrator = mm.LangevinIntegrator(298.15*unit.kelvin, 10.0/unit.picoseconds, 2.0*unit.femtoseconds)\n",
    "integrator.setConstraintTolerance(1e-5)\n",
    "\n",
    "platform = mm.Platform.getPlatformByName('Reference')\n",
    "simulation = app.Simulation(pdb.topology,system, integrator , platform) # ENTER THE THREE PIECES OF OUR SIMULATION HERE (hmm... I wonder where I can find this)\n",
    "simulation.context.setPositions(pdb.positions)\n",
    "\n",
    "print('Minimizing...')\n",
    "\n",
    "st = simulation.context.getState(getPositions=True,getEnergy=True)\n",
    "print(F\"Potential energy before minimization is {st.getPotentialEnergy()}\")\n",
    "\n",
    "simulation.minimizeEnergy(maxIterations=100)\n",
    "\n",
    "st = simulation.context.getState(getPositions=True,getEnergy=True)\n",
    "print(F\"Potential energy after minimization is {st.getPotentialEnergy()}\")\n",
    "\n",
    "from sys import stdout\n",
    "\n",
    "print('Equilibrating...')\n",
    "\n",
    "simulation.reporters.append(app.StateDataReporter(stdout, 100, step=True, \n",
    "    potentialEnergy=True, temperature=True, separator=','))\n",
    "simulation.context.setVelocitiesToTemperature(150.0*unit.kelvin)\n",
    "simulation.step(2500)\n",
    "\n",
    "\n",
    "import time as time\n",
    "\n",
    "print('Running Production...')\n",
    "\n",
    "# Begin timer\n",
    "tinit=time.time()\n",
    "\n",
    "# Clear simulation reporters\n",
    "simulation.reporters.clear()\n",
    "\n",
    "# Reinitialize simulation reporters. We do this because we want different information printed from the production run than the equilibration run.\n",
    "# output basic simulation information below every 250000 steps - (which is equal to 2 fs(250,000) = 500,000 fs = 500 ps)\n",
    "simulation.reporters.append(app.StateDataReporter(stdout, 250000, \n",
    "    step=True, time=True, potentialEnergy=True, temperature=True, \n",
    "    speed=True, separator=','))\n",
    "\n",
    "# write out a trajectory (i.e., coordinates vs. time) to a DCD\n",
    "# file every 100 steps - 0.2 ps\n",
    "simulation.reporters.append(app.DCDReporter('butane_sim.dcd', 100))\n",
    "\n",
    "# run the simulation for 1.0x10^7 steps - 20 ns\n",
    "simulation.step(10000000)\n",
    "\n",
    "# End timer\n",
    "tfinal=time.time()\n",
    "print('Done!')\n",
    "print('Time required for simulation:', tfinal-tinit, 'seconds')"
   ]
  },
  {
   "cell_type": "markdown",
   "metadata": {},
   "source": [
    "---"
   ]
  },
  {
   "cell_type": "markdown",
   "metadata": {},
   "source": [
    "## Analysis\n",
    "Now that we’ve performed our computer experiment, it is time to analyze the data we have collected. The main type of data you have collected through this simulation is information on atom positions, or the system trajectory.\n",
    "\n",
    "As part of our production simulation, we set up a reporter to record atomic positions. The code below shows that code from your previous script, **you do not need to execute it.**"
   ]
  },
  {
   "cell_type": "code",
   "execution_count": null,
   "metadata": {},
   "outputs": [],
   "source": [
    "simulation.reporters.append(app.DCDReporter('ethane_sim.dcd', 100))"
   ]
  },
  {
   "cell_type": "markdown",
   "metadata": {},
   "source": [
    "This reporter saved the atomic positions for us every 100 timesteps in a file called `ethane_sim.dcd`. The DCD file format is a binary file (instead of being a text file), so you cannot open it and look at it. However, we will be using certain libraries to analyze and view the file’s contents. If you’ve run your simulation, you should have the file `ethane_sim.dcd` in the same folder as your Jupyter notebook.\n",
    "\n",
    "First, we will need to make sure we have a few more Python libraries installed which can help us with analysis. We will use a library called **nglview** to visualize the trajectory, and a library called **MDTraj** to analyze the trajectory. Before opening a new notebook for analysis, you may need to install **nglview** and **MDTraj**.\n",
    "\n",
    "Type the following in your *terminal* to install **nglview** and **MDTraj**:"
   ]
  },
  {
   "cell_type": "code",
   "execution_count": null,
   "metadata": {},
   "outputs": [],
   "source": [
    "$ conda install -c conda-forge mdtraj nglview"
   ]
  },
  {
   "cell_type": "code",
   "execution_count": null,
   "metadata": {},
   "outputs": [],
   "source": [
    "import mdtraj as md\n",
    "\n",
    "traj = md.load('ethane_sim.dcd', top='data/ethane.pdb')"
   ]
  },
  {
   "cell_type": "markdown",
   "metadata": {},
   "source": [
    "The command above reads all of the atomic positions from `ethane_sim.dcd` and keeps track of atom connectivity (topology) which was given in the PDB file. Next, visualize the trajectory using nglview. Nglview has a special function `show_mdtraj` that we can use with our trajectory because it was in a specific format from the MDTraj library."
   ]
  },
  {
   "cell_type": "code",
   "execution_count": null,
   "metadata": {},
   "outputs": [],
   "source": [
    "import nglview as ngl\n",
    "\n",
    "visualize = ngl.show_mdtraj(traj)\n",
    "visualize"
   ]
  },
  {
   "cell_type": "markdown",
   "metadata": {},
   "source": [
    "This should show you something that looks sort of like a movie of your ethane molecule. These are the atomic positions calculated by OpenMM during the molecular dynamics run. We can now analyze the positions to find out some things about our molecule.\n",
    "\n",
    "We will use another OpenMM command to pull out our bonds and atoms for analysis"
   ]
  },
  {
   "cell_type": "code",
   "execution_count": null,
   "metadata": {},
   "outputs": [],
   "source": [
    "atoms, bonds = traj.topology.to_dataframe()\n",
    "atoms"
   ]
  },
  {
   "cell_type": "markdown",
   "metadata": {},
   "source": [
    "#### QUESTION\n",
    "Describe the table that `atoms` produced.\n",
    "\n",
    "#### RESPONSE\n",
    "Your response here :D"
   ]
  },
  {
   "cell_type": "markdown",
   "metadata": {},
   "source": [
    "### Analyzing the C-C bond length\n",
    "Let’s look at what C-C bond lengths our ethane molecule had during the simulation. Before we can measure the bond lengths, we have to decide which atoms from our molecule define the bond angle. You should see a table output from running `atoms`.\n",
    "\n",
    "We have to pick the atom indices for the C-C bond. An atom’s index is the left-most value in the table above. For our torsion, we’ll measure `C1-C2` the indices for these are `0` and `4`. We use the function `compute_distances` in the MDTraj library to measure the distance between these atoms."
   ]
  },
  {
   "cell_type": "code",
   "execution_count": null,
   "metadata": {},
   "outputs": [],
   "source": [
    "bond_indices = [0, 4] # atoms to define the bond length\n",
    "bond_length = md.compute_distances(traj, [bond_indices])"
   ]
  },
  {
   "cell_type": "markdown",
   "metadata": {},
   "source": [
    "We now have the measurement for this torsion angle in radians for each recorded timestep of the trajectory saved in the array `bond_length`. One way we can examine this data is by plotting it as a histogram using the Python library `matplotlib`."
   ]
  },
  {
   "cell_type": "code",
   "execution_count": null,
   "metadata": {},
   "outputs": [],
   "source": [
    "import matplotlib.pyplot as plt\n",
    "\n",
    "bondcounts, binedges, otherstuff = plt.hist(bond_length, bins=120)\n",
    "plt.title('C-C bond length histogram')\n",
    "plt.xlabel('Bond length (nm)')\n",
    "plt.ylabel('Counts')\n",
    "plt.show()"
   ]
  },
  {
   "cell_type": "markdown",
   "metadata": {},
   "source": [
    "## Your Turn\n",
    "A torsion is made up of four atoms which are bonded to each other. Analyze the torsion angle associated with the atoms `H11-C1-C2-H21` for your trajectory. Instead of using the function `compute_distance`, use `compute_dihedrals`. Create a histogram plot of the torsion angles.\n",
    "\n",
    "First, we need to pick the atom indices of our torsion angle and use the `compute_dihedrals` function to calculate the dihedrals."
   ]
  },
  {
   "cell_type": "code",
   "execution_count": null,
   "metadata": {},
   "outputs": [],
   "source": [
    "phi_indices = [] # add atoms to define the torsion angle\n",
    "phi = # use the compute_dihedrals function\n",
    "\n",
    "print(phi)"
   ]
  },
  {
   "cell_type": "markdown",
   "metadata": {},
   "source": [
    "We now have the measurement for this torsion angle in radians for each recorded timestep of the trajectory.\n",
    "\n",
    "Next, we can examine this data by plotting it as a histogram using the Python library `matplotlib`."
   ]
  },
  {
   "cell_type": "code",
   "execution_count": null,
   "metadata": {},
   "outputs": [],
   "source": [
    "import matplotlib.pyplot as plt\n",
    "\n",
    "# create a histogram with 90 bins"
   ]
  },
  {
   "cell_type": "markdown",
   "metadata": {},
   "source": [
    "Credit for this exercise goes to [MolSSI](https://education.molssi.org/mm-tools/02-md-alkanes/index.html)."
   ]
  }
 ],
 "metadata": {
  "kernelspec": {
   "display_name": "Python 3 (ipykernel)",
   "language": "python",
   "name": "python3"
  },
  "language_info": {
   "codemirror_mode": {
    "name": "ipython",
    "version": 3
   },
   "file_extension": ".py",
   "mimetype": "text/x-python",
   "name": "python",
   "nbconvert_exporter": "python",
   "pygments_lexer": "ipython3",
   "version": "3.10.6"
  },
  "vscode": {
   "interpreter": {
    "hash": "31f2aee4e71d21fbe5cf8b01ff0e069b9275f58929596ceb00d14d90e3e16cd6"
   }
  }
 },
 "nbformat": 4,
 "nbformat_minor": 2
}
